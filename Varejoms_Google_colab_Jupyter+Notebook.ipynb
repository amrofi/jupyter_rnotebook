{
  "nbformat": 4,
  "nbformat_minor": 0,
  "metadata": {
    "kernelspec": {
      "display_name": "R",
      "language": "R",
      "name": "ir"
    },
    "language_info": {
      "codemirror_mode": "r",
      "file_extension": ".r",
      "mimetype": "text/x-r-source",
      "name": "R",
      "pygments_lexer": "r",
      "version": "3.3.3"
    },
    "colab": {
      "name": "Varejoms Google colab Jupyter+Notebook.ipynb",
      "provenance": [],
      "collapsed_sections": [],
      "include_colab_link": true
    }
  },
  "cells": [
    {
      "cell_type": "markdown",
      "metadata": {
        "id": "view-in-github",
        "colab_type": "text"
      },
      "source": [
        "<a href=\"https://colab.research.google.com/github/amrofi/jupyter_rnotebook/blob/master/Varejoms_Google_colab_Jupyter%2BNotebook.ipynb\" target=\"_parent\"><img src=\"https://colab.research.google.com/assets/colab-badge.svg\" alt=\"Open In Colab\"/></a>"
      ]
    },
    {
      "cell_type": "markdown",
      "metadata": {
        "collapsed": true,
        "deletable": true,
        "editable": true,
        "id": "0P31wm6r8s2U",
        "colab_type": "text"
      },
      "source": [
        "# Introdução\n",
        "\n",
        "Quero estabelecer uma nova conexao R no Google Colab"
      ]
    },
    {
      "cell_type": "code",
      "metadata": {
        "id": "5g5ehkLB9UQY",
        "colab_type": "code",
        "colab": {
          "base_uri": "https://localhost:8080/",
          "height": 118
        },
        "outputId": "3798de8b-b343-44bc-d5ba-2945359cb568"
      },
      "source": [
        "install.packages('plm', repos='http://cran.rstudio.com/')"
      ],
      "execution_count": 2,
      "outputs": [
        {
          "output_type": "stream",
          "text": [
            "Installing package into ‘/usr/local/lib/R/site-library’\n",
            "(as ‘lib’ is unspecified)\n",
            "\n",
            "also installing the dependencies ‘miscTools’, ‘bibtex’, ‘gbRd’, ‘bdsmatrix’, ‘zoo’, ‘sandwich’, ‘lmtest’, ‘maxLik’, ‘Rdpack’, ‘Formula’\n",
            "\n",
            "\n"
          ],
          "name": "stderr"
        }
      ]
    },
    {
      "cell_type": "code",
      "metadata": {
        "deletable": true,
        "editable": true,
        "id": "lU_faBh88s2X",
        "colab_type": "code",
        "colab": {}
      },
      "source": [
        "library(\"plm\")"
      ],
      "execution_count": 3,
      "outputs": []
    },
    {
      "cell_type": "markdown",
      "metadata": {
        "deletable": true,
        "editable": true,
        "id": "nPiW9Rk88s2c",
        "colab_type": "text"
      },
      "source": [
        "Este pacote possui quatro conjuntos de dados : `EmplUK` utilizado por M. Arellano e Bond (1991); `Grunfeld` de Kleiber e Zeileis (2008), utilizado em vários livros econométricos; `Produc` de Munnell (1990); e, `Wages` de Cornwell e Rupert (1988). Os dados são carregados fazendo:"
      ]
    },
    {
      "cell_type": "code",
      "metadata": {
        "deletable": true,
        "editable": true,
        "id": "kYsKtkVc8s2d",
        "colab_type": "code",
        "colab": {}
      },
      "source": [
        "data(\"EmplUK\", package=\"plm\")\n",
        "data(\"Produc\", package=\"plm\")\n",
        "data(\"Grunfeld\", package=\"plm\")\n",
        "data(\"Wages\", package=\"plm\")"
      ],
      "execution_count": 4,
      "outputs": []
    },
    {
      "cell_type": "markdown",
      "metadata": {
        "deletable": true,
        "editable": true,
        "id": "Inqacfb68s2g",
        "colab_type": "text"
      },
      "source": [
        "Com a função `data` acima, apenas chamamos os dados do pacote `plm`. Agora, farei uso da função `pdata.frame`  para atribuir as informações de dataframe ao painel de dados. Observar que aqui neste rnotebook.io não faz acesso a internet a não ser pelos pacotes já instalados internamente."
      ]
    },
    {
      "cell_type": "code",
      "metadata": {
        "deletable": true,
        "editable": true,
        "id": "QXdCy4VN8s2g",
        "colab_type": "code",
        "colab": {},
        "outputId": "27365eb8-0ef8-423c-f5fc-3a06a4c1c56c"
      },
      "source": [
        "E <- pdata.frame(EmplUK, index=c(\"firm\",\"year\"), drop.index=TRUE, row.names=TRUE)\n",
        "head(E)"
      ],
      "execution_count": null,
      "outputs": [
        {
          "output_type": "display_data",
          "data": {
            "text/html": [
              "<table>\n",
              "<thead><tr><th></th><th scope=col>sector</th><th scope=col>emp</th><th scope=col>wage</th><th scope=col>capital</th><th scope=col>output</th></tr></thead>\n",
              "<tbody>\n",
              "\t<tr><th scope=row>1-1977</th><td>7       </td><td>5.041   </td><td>13.1516 </td><td>0.5894  </td><td> 95.7072</td></tr>\n",
              "\t<tr><th scope=row>1-1978</th><td>7       </td><td>5.600   </td><td>12.3018 </td><td>0.6318  </td><td> 97.3569</td></tr>\n",
              "\t<tr><th scope=row>1-1979</th><td>7       </td><td>5.015   </td><td>12.8395 </td><td>0.6771  </td><td> 99.6083</td></tr>\n",
              "\t<tr><th scope=row>1-1980</th><td>7       </td><td>4.715   </td><td>13.8039 </td><td>0.6171  </td><td>100.5501</td></tr>\n",
              "\t<tr><th scope=row>1-1981</th><td>7       </td><td>4.093   </td><td>14.2897 </td><td>0.5076  </td><td> 99.5581</td></tr>\n",
              "\t<tr><th scope=row>1-1982</th><td>7       </td><td>3.166   </td><td>14.8681 </td><td>0.4229  </td><td> 98.6151</td></tr>\n",
              "</tbody>\n",
              "</table>\n"
            ],
            "text/latex": "\\begin{tabular}{r|lllll}\n  & sector & emp & wage & capital & output\\\\\n\\hline\n\t1-1977 & 7        & 5.041    & 13.1516  & 0.5894   &  95.7072\\\\\n\t1-1978 & 7        & 5.600    & 12.3018  & 0.6318   &  97.3569\\\\\n\t1-1979 & 7        & 5.015    & 12.8395  & 0.6771   &  99.6083\\\\\n\t1-1980 & 7        & 4.715    & 13.8039  & 0.6171   & 100.5501\\\\\n\t1-1981 & 7        & 4.093    & 14.2897  & 0.5076   &  99.5581\\\\\n\t1-1982 & 7        & 3.166    & 14.8681  & 0.4229   &  98.6151\\\\\n\\end{tabular}\n",
            "text/markdown": "\n| <!--/--> | sector | emp | wage | capital | output | \n|---|---|---|---|---|---|\n| 1-1977 | 7        | 5.041    | 13.1516  | 0.5894   |  95.7072 | \n| 1-1978 | 7        | 5.600    | 12.3018  | 0.6318   |  97.3569 | \n| 1-1979 | 7        | 5.015    | 12.8395  | 0.6771   |  99.6083 | \n| 1-1980 | 7        | 4.715    | 13.8039  | 0.6171   | 100.5501 | \n| 1-1981 | 7        | 4.093    | 14.2897  | 0.5076   |  99.5581 | \n| 1-1982 | 7        | 3.166    | 14.8681  | 0.4229   |  98.6151 | \n\n\n",
            "text/plain": [
              "       sector emp   wage    capital output  \n",
              "1-1977 7      5.041 13.1516 0.5894   95.7072\n",
              "1-1978 7      5.600 12.3018 0.6318   97.3569\n",
              "1-1979 7      5.015 12.8395 0.6771   99.6083\n",
              "1-1980 7      4.715 13.8039 0.6171  100.5501\n",
              "1-1981 7      4.093 14.2897 0.5076   99.5581\n",
              "1-1982 7      3.166 14.8681 0.4229   98.6151"
            ]
          },
          "metadata": {
            "tags": []
          }
        }
      ]
    },
    {
      "cell_type": "markdown",
      "metadata": {
        "deletable": true,
        "editable": true,
        "id": "mAVZlx6Y8s2j",
        "colab_type": "text"
      },
      "source": [
        "Neste caso, foi especificado o identificador `firm` para a cross-section e o `year` para a time series do painel.  O usuário deve estar atento que precisa haver um rótulo identificador para cross-section e para time series de modo que o pacote entenda e atribua corretamente as informações."
      ]
    },
    {
      "cell_type": "markdown",
      "metadata": {
        "deletable": true,
        "editable": true,
        "id": "R-j_HmNy8s2j",
        "colab_type": "text"
      },
      "source": [
        "# Modelo de Efeito Fixos\n",
        "Farei agora um modelo de efeitos fixos para o dataset `Grunfeld`. Primeiro definirei como `pdata.frame` e depois estimarei o modelo. "
      ]
    },
    {
      "cell_type": "code",
      "metadata": {
        "deletable": true,
        "editable": true,
        "id": "zN28HAhZ8s2k",
        "colab_type": "code",
        "colab": {},
        "outputId": "93b69dd3-1db9-45a2-9a64-803e879b6407"
      },
      "source": [
        "Grunfeld <- pdata.frame(Grunfeld, index=c(\"firm\",\"year\"), drop.index=TRUE, row.names=TRUE)\n",
        "head(E)"
      ],
      "execution_count": null,
      "outputs": [
        {
          "output_type": "display_data",
          "data": {
            "text/html": [
              "<table>\n",
              "<thead><tr><th></th><th scope=col>sector</th><th scope=col>emp</th><th scope=col>wage</th><th scope=col>capital</th><th scope=col>output</th></tr></thead>\n",
              "<tbody>\n",
              "\t<tr><th scope=row>1-1977</th><td>7       </td><td>5.041   </td><td>13.1516 </td><td>0.5894  </td><td> 95.7072</td></tr>\n",
              "\t<tr><th scope=row>1-1978</th><td>7       </td><td>5.600   </td><td>12.3018 </td><td>0.6318  </td><td> 97.3569</td></tr>\n",
              "\t<tr><th scope=row>1-1979</th><td>7       </td><td>5.015   </td><td>12.8395 </td><td>0.6771  </td><td> 99.6083</td></tr>\n",
              "\t<tr><th scope=row>1-1980</th><td>7       </td><td>4.715   </td><td>13.8039 </td><td>0.6171  </td><td>100.5501</td></tr>\n",
              "\t<tr><th scope=row>1-1981</th><td>7       </td><td>4.093   </td><td>14.2897 </td><td>0.5076  </td><td> 99.5581</td></tr>\n",
              "\t<tr><th scope=row>1-1982</th><td>7       </td><td>3.166   </td><td>14.8681 </td><td>0.4229  </td><td> 98.6151</td></tr>\n",
              "</tbody>\n",
              "</table>\n"
            ],
            "text/latex": "\\begin{tabular}{r|lllll}\n  & sector & emp & wage & capital & output\\\\\n\\hline\n\t1-1977 & 7        & 5.041    & 13.1516  & 0.5894   &  95.7072\\\\\n\t1-1978 & 7        & 5.600    & 12.3018  & 0.6318   &  97.3569\\\\\n\t1-1979 & 7        & 5.015    & 12.8395  & 0.6771   &  99.6083\\\\\n\t1-1980 & 7        & 4.715    & 13.8039  & 0.6171   & 100.5501\\\\\n\t1-1981 & 7        & 4.093    & 14.2897  & 0.5076   &  99.5581\\\\\n\t1-1982 & 7        & 3.166    & 14.8681  & 0.4229   &  98.6151\\\\\n\\end{tabular}\n",
            "text/markdown": "\n| <!--/--> | sector | emp | wage | capital | output | \n|---|---|---|---|---|---|\n| 1-1977 | 7        | 5.041    | 13.1516  | 0.5894   |  95.7072 | \n| 1-1978 | 7        | 5.600    | 12.3018  | 0.6318   |  97.3569 | \n| 1-1979 | 7        | 5.015    | 12.8395  | 0.6771   |  99.6083 | \n| 1-1980 | 7        | 4.715    | 13.8039  | 0.6171   | 100.5501 | \n| 1-1981 | 7        | 4.093    | 14.2897  | 0.5076   |  99.5581 | \n| 1-1982 | 7        | 3.166    | 14.8681  | 0.4229   |  98.6151 | \n\n\n",
            "text/plain": [
              "       sector emp   wage    capital output  \n",
              "1-1977 7      5.041 13.1516 0.5894   95.7072\n",
              "1-1978 7      5.600 12.3018 0.6318   97.3569\n",
              "1-1979 7      5.015 12.8395 0.6771   99.6083\n",
              "1-1980 7      4.715 13.8039 0.6171  100.5501\n",
              "1-1981 7      4.093 14.2897 0.5076   99.5581\n",
              "1-1982 7      3.166 14.8681 0.4229   98.6151"
            ]
          },
          "metadata": {
            "tags": []
          }
        }
      ]
    },
    {
      "cell_type": "code",
      "metadata": {
        "deletable": true,
        "editable": true,
        "id": "vo9FXaSL8s2m",
        "colab_type": "code",
        "colab": {}
      },
      "source": [
        "grun.fe <- plm(inv~value+capital, data = Grunfeld, model = \"within\")"
      ],
      "execution_count": null,
      "outputs": []
    },
    {
      "cell_type": "markdown",
      "metadata": {
        "deletable": true,
        "editable": true,
        "id": "08s7u4IQ8s2p",
        "colab_type": "text"
      },
      "source": [
        "Vou pedir o sumário da estimação."
      ]
    },
    {
      "cell_type": "code",
      "metadata": {
        "deletable": true,
        "editable": true,
        "id": "4_PcYFsY8s2q",
        "colab_type": "code",
        "colab": {},
        "outputId": "2ea49e0d-2494-418b-ea88-a20b04f2d28c"
      },
      "source": [
        "summary(grun.fe)"
      ],
      "execution_count": null,
      "outputs": [
        {
          "output_type": "display_data",
          "data": {
            "text/plain": [
              "Oneway (individual) effect Within Model\n",
              "\n",
              "Call:\n",
              "plm(formula = inv ~ value + capital, data = Grunfeld, model = \"within\")\n",
              "\n",
              "Balanced Panel: n=10, T=20, N=200\n",
              "\n",
              "Residuals :\n",
              "    Min.  1st Qu.   Median  3rd Qu.     Max. \n",
              "-184.000  -17.600    0.563   19.200  251.000 \n",
              "\n",
              "Coefficients :\n",
              "        Estimate Std. Error t-value  Pr(>|t|)    \n",
              "value   0.110124   0.011857  9.2879 < 2.2e-16 ***\n",
              "capital 0.310065   0.017355 17.8666 < 2.2e-16 ***\n",
              "---\n",
              "Signif. codes:  0 ‘***’ 0.001 ‘**’ 0.01 ‘*’ 0.05 ‘.’ 0.1 ‘ ’ 1\n",
              "\n",
              "Total Sum of Squares:    2244400\n",
              "Residual Sum of Squares: 523480\n",
              "R-Squared:      0.76676\n",
              "Adj. R-Squared: 0.75311\n",
              "F-statistic: 309.014 on 2 and 188 DF, p-value: < 2.22e-16"
            ]
          },
          "metadata": {
            "tags": []
          }
        }
      ]
    },
    {
      "cell_type": "code",
      "metadata": {
        "deletable": true,
        "editable": true,
        "id": "qkrsdQTg8s2s",
        "colab_type": "code",
        "colab": {}
      },
      "source": [
        ""
      ],
      "execution_count": null,
      "outputs": []
    }
  ]
}