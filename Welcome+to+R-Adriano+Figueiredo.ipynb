{
 "cells": [
  {
   "cell_type": "markdown",
   "metadata": {
    "deletable": true,
    "editable": true
   },
   "source": [
    "# Welcome to R\n",
    "\n",
    "Tutorial do R - Pacote swirl\n",
    "Pessoal, \n",
    "\n",
    "Este pacote é um tutorial já dentro do R. Instale o pacote dentro do R e vá seguindo o roteiro. \n",
    "\n",
    "Ajuda muito a entender o funcionamento básico da linguagem!\n",
    "\n",
    "Segue o site com as instruções https://swirlstats.com/students.html\n",
    "\n",
    "\n",
    "Clique o link https://swirlstats.com/students.html para abrir o recurso\n"
   ]
  }
 ],
 "metadata": {
  "kernelspec": {
   "display_name": "R",
   "language": "R",
   "name": "ir"
  },
  "language_info": {
   "codemirror_mode": "r",
   "file_extension": ".r",
   "mimetype": "text/x-r-source",
   "name": "R",
   "pygments_lexer": "r",
   "version": "3.3.3"
  }
 },
 "nbformat": 4,
 "nbformat_minor": 2
}
