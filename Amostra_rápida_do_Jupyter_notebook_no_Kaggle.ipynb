{
  "nbformat": 4,
  "nbformat_minor": 0,
  "metadata": {
    "kernelspec": {
      "name": "ir",
      "display_name": "R",
      "language": "R"
    },
    "language_info": {
      "name": "R",
      "codemirror_mode": "r",
      "pygments_lexer": "r",
      "mimetype": "text/x-r-source",
      "file_extension": ".r",
      "version": "3.6.3"
    },
    "colab": {
      "name": "Amostra rápida do Jupyter notebook no Kaggle.ipynb",
      "provenance": [],
      "collapsed_sections": [],
      "include_colab_link": true
    }
  },
  "cells": [
    {
      "cell_type": "markdown",
      "metadata": {
        "id": "view-in-github",
        "colab_type": "text"
      },
      "source": [
        "<a href=\"https://colab.research.google.com/github/amrofi/jupyter_rnotebook/blob/master/Amostra_r%C3%A1pida_do_Jupyter_notebook_no_Kaggle.ipynb\" target=\"_parent\"><img src=\"https://colab.research.google.com/assets/colab-badge.svg\" alt=\"Open In Colab\"/></a>"
      ]
    },
    {
      "cell_type": "markdown",
      "metadata": {
        "_uuid": "051d70d956493feee0c6d64651c6a088724dca2a",
        "_execution_state": "idle",
        "trusted": false,
        "id": "YcX-H9TVYIAv",
        "colab_type": "text"
      },
      "source": [
        "# AMOSTRA RÁPIDA DO JUPYTER NOTEBOOK NO KAGGLE UTILIZANDO **R**\n",
        "\n",
        "# Introdução\n",
        "Farei uma pequena apresentação de como executar comandos rápidos em R pelo Jupyter notebook do <rnotebook.io>. É preciso lembrar que usarei apenas os pacotes que já estão disponíveis no <rnotebook.io>. Esta primeira célula é uma linha de Markdown que aceita textos e também LateX. Assim, você poderá usar as estratégias de negritar, itálico, etc. Ao clicar em Run, você executa a linha.\n",
        "\n",
        "Vou executar as rotinas como em [Croissant e Millo (s.d.)](https://cran.r-project.org/web/packages/plm/vignettes/plmPackage.html). O exemplo usa o pacote `plm`, já instalado pelo _rnotebook.io_.\n",
        "\n",
        "Os modelos básicos de painéis lineares usados em econometria podem ser descritos através de restrições adequadas do seguinte modelo geral:"
      ]
    },
    {
      "cell_type": "markdown",
      "metadata": {
        "id": "MbkA0yezYIAw",
        "colab_type": "text"
      },
      "source": [
        "\\begin{equation*}\n",
        " y_{it}=\\alpha_{it} +  \\beta_{it}^\\top x_{it} + u_{it}\n",
        "\\end{equation*}"
      ]
    },
    {
      "cell_type": "markdown",
      "metadata": {
        "id": "JyaZMrqsYIAx",
        "colab_type": "text"
      },
      "source": [
        "# Pacote básico"
      ]
    },
    {
      "cell_type": "markdown",
      "metadata": {
        "id": "ZxsZk-qbYIAx",
        "colab_type": "text"
      },
      "source": [
        "Este pacote `plm` possui quatro conjuntos de dados : `EmplUK` utilizado por M. Arellano e Bond (1991); `Grunfeld` de Kleiber e Zeileis (2008), utilizado em vários livros econométricos; `Produc` de Munnell (1990); e, `Wages` de Cornwell e Rupert (1988). Os dados são carregados fazendo:"
      ]
    },
    {
      "cell_type": "code",
      "metadata": {
        "id": "EcaFg5nOZI_N",
        "colab_type": "code",
        "colab": {
          "base_uri": "https://localhost:8080/",
          "height": 118
        },
        "outputId": "11c39506-04cb-4254-c114-271e1e05e472"
      },
      "source": [
        "install.packages('plm', repos='http://cran.rstudio.com/')"
      ],
      "execution_count": 5,
      "outputs": [
        {
          "output_type": "stream",
          "text": [
            "Installing package into ‘/usr/local/lib/R/site-library’\n",
            "(as ‘lib’ is unspecified)\n",
            "\n",
            "also installing the dependencies ‘miscTools’, ‘bibtex’, ‘gbRd’, ‘bdsmatrix’, ‘zoo’, ‘sandwich’, ‘lmtest’, ‘maxLik’, ‘Rdpack’, ‘Formula’\n",
            "\n",
            "\n"
          ],
          "name": "stderr"
        }
      ]
    },
    {
      "cell_type": "code",
      "metadata": {
        "trusted": true,
        "id": "iCGz7k_AYIAy",
        "colab_type": "code",
        "colab": {}
      },
      "source": [
        "library(\"plm\")"
      ],
      "execution_count": 6,
      "outputs": []
    },
    {
      "cell_type": "code",
      "metadata": {
        "trusted": true,
        "id": "MCTfGmQBYIA3",
        "colab_type": "code",
        "colab": {}
      },
      "source": [
        "data(\"EmplUK\", package=\"plm\")\n",
        "data(\"Produc\", package=\"plm\")\n",
        "data(\"Grunfeld\", package=\"plm\")\n",
        "data(\"Wages\", package=\"plm\")"
      ],
      "execution_count": 7,
      "outputs": []
    },
    {
      "cell_type": "code",
      "metadata": {
        "trusted": true,
        "id": "SYZQn8TfYIA5",
        "colab_type": "code",
        "colab": {
          "base_uri": "https://localhost:8080/",
          "height": 730
        },
        "outputId": "fa681a99-5d85-4cce-b2f9-45268ec3ecb6"
      },
      "source": [
        "head(EmplUK)\n",
        "head(Produc)\n",
        "head(Grunfeld)\n",
        "head(Wages)"
      ],
      "execution_count": 8,
      "outputs": [
        {
          "output_type": "display_data",
          "data": {
            "text/plain": [
              "  firm year sector emp   wage    capital output  \n",
              "1 1    1977 7      5.041 13.1516 0.5894   95.7072\n",
              "2 1    1978 7      5.600 12.3018 0.6318   97.3569\n",
              "3 1    1979 7      5.015 12.8395 0.6771   99.6083\n",
              "4 1    1980 7      4.715 13.8039 0.6171  100.5501\n",
              "5 1    1981 7      4.093 14.2897 0.5076   99.5581\n",
              "6 1    1982 7      3.166 14.8681 0.4229   98.6151"
            ],
            "text/latex": "A data.frame: 6 × 7\n\\begin{tabular}{r|lllllll}\n  & firm & year & sector & emp & wage & capital & output\\\\\n  & <dbl> & <dbl> & <dbl> & <dbl> & <dbl> & <dbl> & <dbl>\\\\\n\\hline\n\t1 & 1 & 1977 & 7 & 5.041 & 13.1516 & 0.5894 &  95.7072\\\\\n\t2 & 1 & 1978 & 7 & 5.600 & 12.3018 & 0.6318 &  97.3569\\\\\n\t3 & 1 & 1979 & 7 & 5.015 & 12.8395 & 0.6771 &  99.6083\\\\\n\t4 & 1 & 1980 & 7 & 4.715 & 13.8039 & 0.6171 & 100.5501\\\\\n\t5 & 1 & 1981 & 7 & 4.093 & 14.2897 & 0.5076 &  99.5581\\\\\n\t6 & 1 & 1982 & 7 & 3.166 & 14.8681 & 0.4229 &  98.6151\\\\\n\\end{tabular}\n",
            "text/markdown": "\nA data.frame: 6 × 7\n\n| <!--/--> | firm &lt;dbl&gt; | year &lt;dbl&gt; | sector &lt;dbl&gt; | emp &lt;dbl&gt; | wage &lt;dbl&gt; | capital &lt;dbl&gt; | output &lt;dbl&gt; |\n|---|---|---|---|---|---|---|---|\n| 1 | 1 | 1977 | 7 | 5.041 | 13.1516 | 0.5894 |  95.7072 |\n| 2 | 1 | 1978 | 7 | 5.600 | 12.3018 | 0.6318 |  97.3569 |\n| 3 | 1 | 1979 | 7 | 5.015 | 12.8395 | 0.6771 |  99.6083 |\n| 4 | 1 | 1980 | 7 | 4.715 | 13.8039 | 0.6171 | 100.5501 |\n| 5 | 1 | 1981 | 7 | 4.093 | 14.2897 | 0.5076 |  99.5581 |\n| 6 | 1 | 1982 | 7 | 3.166 | 14.8681 | 0.4229 |  98.6151 |\n\n",
            "text/html": [
              "<table>\n",
              "<caption>A data.frame: 6 × 7</caption>\n",
              "<thead>\n",
              "\t<tr><th></th><th scope=col>firm</th><th scope=col>year</th><th scope=col>sector</th><th scope=col>emp</th><th scope=col>wage</th><th scope=col>capital</th><th scope=col>output</th></tr>\n",
              "\t<tr><th></th><th scope=col>&lt;dbl&gt;</th><th scope=col>&lt;dbl&gt;</th><th scope=col>&lt;dbl&gt;</th><th scope=col>&lt;dbl&gt;</th><th scope=col>&lt;dbl&gt;</th><th scope=col>&lt;dbl&gt;</th><th scope=col>&lt;dbl&gt;</th></tr>\n",
              "</thead>\n",
              "<tbody>\n",
              "\t<tr><th scope=row>1</th><td>1</td><td>1977</td><td>7</td><td>5.041</td><td>13.1516</td><td>0.5894</td><td> 95.7072</td></tr>\n",
              "\t<tr><th scope=row>2</th><td>1</td><td>1978</td><td>7</td><td>5.600</td><td>12.3018</td><td>0.6318</td><td> 97.3569</td></tr>\n",
              "\t<tr><th scope=row>3</th><td>1</td><td>1979</td><td>7</td><td>5.015</td><td>12.8395</td><td>0.6771</td><td> 99.6083</td></tr>\n",
              "\t<tr><th scope=row>4</th><td>1</td><td>1980</td><td>7</td><td>4.715</td><td>13.8039</td><td>0.6171</td><td>100.5501</td></tr>\n",
              "\t<tr><th scope=row>5</th><td>1</td><td>1981</td><td>7</td><td>4.093</td><td>14.2897</td><td>0.5076</td><td> 99.5581</td></tr>\n",
              "\t<tr><th scope=row>6</th><td>1</td><td>1982</td><td>7</td><td>3.166</td><td>14.8681</td><td>0.4229</td><td> 98.6151</td></tr>\n",
              "</tbody>\n",
              "</table>\n"
            ]
          },
          "metadata": {
            "tags": []
          }
        },
        {
          "output_type": "display_data",
          "data": {
            "text/plain": [
              "  state   year region pcap     hwy     water   util    pc       gsp   emp   \n",
              "1 ALABAMA 1970 6      15032.67 7325.80 1655.68 6051.20 35793.80 28418 1010.5\n",
              "2 ALABAMA 1971 6      15501.94 7525.94 1721.02 6254.98 37299.91 29375 1021.9\n",
              "3 ALABAMA 1972 6      15972.41 7765.42 1764.75 6442.23 38670.30 31303 1072.3\n",
              "4 ALABAMA 1973 6      16406.26 7907.66 1742.41 6756.19 40084.01 33430 1135.5\n",
              "5 ALABAMA 1974 6      16762.67 8025.52 1734.85 7002.29 42057.31 33749 1169.8\n",
              "6 ALABAMA 1975 6      17316.26 8158.23 1752.27 7405.76 43971.71 33604 1155.4\n",
              "  unemp\n",
              "1 4.7  \n",
              "2 5.2  \n",
              "3 4.7  \n",
              "4 3.9  \n",
              "5 5.5  \n",
              "6 7.7  "
            ],
            "text/latex": "A data.frame: 6 × 11\n\\begin{tabular}{r|lllllllllll}\n  & state & year & region & pcap & hwy & water & util & pc & gsp & emp & unemp\\\\\n  & <fct> & <int> & <fct> & <dbl> & <dbl> & <dbl> & <dbl> & <dbl> & <int> & <dbl> & <dbl>\\\\\n\\hline\n\t1 & ALABAMA & 1970 & 6 & 15032.67 & 7325.80 & 1655.68 & 6051.20 & 35793.80 & 28418 & 1010.5 & 4.7\\\\\n\t2 & ALABAMA & 1971 & 6 & 15501.94 & 7525.94 & 1721.02 & 6254.98 & 37299.91 & 29375 & 1021.9 & 5.2\\\\\n\t3 & ALABAMA & 1972 & 6 & 15972.41 & 7765.42 & 1764.75 & 6442.23 & 38670.30 & 31303 & 1072.3 & 4.7\\\\\n\t4 & ALABAMA & 1973 & 6 & 16406.26 & 7907.66 & 1742.41 & 6756.19 & 40084.01 & 33430 & 1135.5 & 3.9\\\\\n\t5 & ALABAMA & 1974 & 6 & 16762.67 & 8025.52 & 1734.85 & 7002.29 & 42057.31 & 33749 & 1169.8 & 5.5\\\\\n\t6 & ALABAMA & 1975 & 6 & 17316.26 & 8158.23 & 1752.27 & 7405.76 & 43971.71 & 33604 & 1155.4 & 7.7\\\\\n\\end{tabular}\n",
            "text/markdown": "\nA data.frame: 6 × 11\n\n| <!--/--> | state &lt;fct&gt; | year &lt;int&gt; | region &lt;fct&gt; | pcap &lt;dbl&gt; | hwy &lt;dbl&gt; | water &lt;dbl&gt; | util &lt;dbl&gt; | pc &lt;dbl&gt; | gsp &lt;int&gt; | emp &lt;dbl&gt; | unemp &lt;dbl&gt; |\n|---|---|---|---|---|---|---|---|---|---|---|---|\n| 1 | ALABAMA | 1970 | 6 | 15032.67 | 7325.80 | 1655.68 | 6051.20 | 35793.80 | 28418 | 1010.5 | 4.7 |\n| 2 | ALABAMA | 1971 | 6 | 15501.94 | 7525.94 | 1721.02 | 6254.98 | 37299.91 | 29375 | 1021.9 | 5.2 |\n| 3 | ALABAMA | 1972 | 6 | 15972.41 | 7765.42 | 1764.75 | 6442.23 | 38670.30 | 31303 | 1072.3 | 4.7 |\n| 4 | ALABAMA | 1973 | 6 | 16406.26 | 7907.66 | 1742.41 | 6756.19 | 40084.01 | 33430 | 1135.5 | 3.9 |\n| 5 | ALABAMA | 1974 | 6 | 16762.67 | 8025.52 | 1734.85 | 7002.29 | 42057.31 | 33749 | 1169.8 | 5.5 |\n| 6 | ALABAMA | 1975 | 6 | 17316.26 | 8158.23 | 1752.27 | 7405.76 | 43971.71 | 33604 | 1155.4 | 7.7 |\n\n",
            "text/html": [
              "<table>\n",
              "<caption>A data.frame: 6 × 11</caption>\n",
              "<thead>\n",
              "\t<tr><th></th><th scope=col>state</th><th scope=col>year</th><th scope=col>region</th><th scope=col>pcap</th><th scope=col>hwy</th><th scope=col>water</th><th scope=col>util</th><th scope=col>pc</th><th scope=col>gsp</th><th scope=col>emp</th><th scope=col>unemp</th></tr>\n",
              "\t<tr><th></th><th scope=col>&lt;fct&gt;</th><th scope=col>&lt;int&gt;</th><th scope=col>&lt;fct&gt;</th><th scope=col>&lt;dbl&gt;</th><th scope=col>&lt;dbl&gt;</th><th scope=col>&lt;dbl&gt;</th><th scope=col>&lt;dbl&gt;</th><th scope=col>&lt;dbl&gt;</th><th scope=col>&lt;int&gt;</th><th scope=col>&lt;dbl&gt;</th><th scope=col>&lt;dbl&gt;</th></tr>\n",
              "</thead>\n",
              "<tbody>\n",
              "\t<tr><th scope=row>1</th><td>ALABAMA</td><td>1970</td><td>6</td><td>15032.67</td><td>7325.80</td><td>1655.68</td><td>6051.20</td><td>35793.80</td><td>28418</td><td>1010.5</td><td>4.7</td></tr>\n",
              "\t<tr><th scope=row>2</th><td>ALABAMA</td><td>1971</td><td>6</td><td>15501.94</td><td>7525.94</td><td>1721.02</td><td>6254.98</td><td>37299.91</td><td>29375</td><td>1021.9</td><td>5.2</td></tr>\n",
              "\t<tr><th scope=row>3</th><td>ALABAMA</td><td>1972</td><td>6</td><td>15972.41</td><td>7765.42</td><td>1764.75</td><td>6442.23</td><td>38670.30</td><td>31303</td><td>1072.3</td><td>4.7</td></tr>\n",
              "\t<tr><th scope=row>4</th><td>ALABAMA</td><td>1973</td><td>6</td><td>16406.26</td><td>7907.66</td><td>1742.41</td><td>6756.19</td><td>40084.01</td><td>33430</td><td>1135.5</td><td>3.9</td></tr>\n",
              "\t<tr><th scope=row>5</th><td>ALABAMA</td><td>1974</td><td>6</td><td>16762.67</td><td>8025.52</td><td>1734.85</td><td>7002.29</td><td>42057.31</td><td>33749</td><td>1169.8</td><td>5.5</td></tr>\n",
              "\t<tr><th scope=row>6</th><td>ALABAMA</td><td>1975</td><td>6</td><td>17316.26</td><td>8158.23</td><td>1752.27</td><td>7405.76</td><td>43971.71</td><td>33604</td><td>1155.4</td><td>7.7</td></tr>\n",
              "</tbody>\n",
              "</table>\n"
            ]
          },
          "metadata": {
            "tags": []
          }
        },
        {
          "output_type": "display_data",
          "data": {
            "text/plain": [
              "  firm year inv   value  capital\n",
              "1 1    1935 317.6 3078.5   2.8  \n",
              "2 1    1936 391.8 4661.7  52.6  \n",
              "3 1    1937 410.6 5387.1 156.9  \n",
              "4 1    1938 257.7 2792.2 209.2  \n",
              "5 1    1939 330.8 4313.2 203.4  \n",
              "6 1    1940 461.2 4643.9 207.2  "
            ],
            "text/latex": "A data.frame: 6 × 5\n\\begin{tabular}{r|lllll}\n  & firm & year & inv & value & capital\\\\\n  & <int> & <int> & <dbl> & <dbl> & <dbl>\\\\\n\\hline\n\t1 & 1 & 1935 & 317.6 & 3078.5 &   2.8\\\\\n\t2 & 1 & 1936 & 391.8 & 4661.7 &  52.6\\\\\n\t3 & 1 & 1937 & 410.6 & 5387.1 & 156.9\\\\\n\t4 & 1 & 1938 & 257.7 & 2792.2 & 209.2\\\\\n\t5 & 1 & 1939 & 330.8 & 4313.2 & 203.4\\\\\n\t6 & 1 & 1940 & 461.2 & 4643.9 & 207.2\\\\\n\\end{tabular}\n",
            "text/markdown": "\nA data.frame: 6 × 5\n\n| <!--/--> | firm &lt;int&gt; | year &lt;int&gt; | inv &lt;dbl&gt; | value &lt;dbl&gt; | capital &lt;dbl&gt; |\n|---|---|---|---|---|---|\n| 1 | 1 | 1935 | 317.6 | 3078.5 |   2.8 |\n| 2 | 1 | 1936 | 391.8 | 4661.7 |  52.6 |\n| 3 | 1 | 1937 | 410.6 | 5387.1 | 156.9 |\n| 4 | 1 | 1938 | 257.7 | 2792.2 | 209.2 |\n| 5 | 1 | 1939 | 330.8 | 4313.2 | 203.4 |\n| 6 | 1 | 1940 | 461.2 | 4643.9 | 207.2 |\n\n",
            "text/html": [
              "<table>\n",
              "<caption>A data.frame: 6 × 5</caption>\n",
              "<thead>\n",
              "\t<tr><th></th><th scope=col>firm</th><th scope=col>year</th><th scope=col>inv</th><th scope=col>value</th><th scope=col>capital</th></tr>\n",
              "\t<tr><th></th><th scope=col>&lt;int&gt;</th><th scope=col>&lt;int&gt;</th><th scope=col>&lt;dbl&gt;</th><th scope=col>&lt;dbl&gt;</th><th scope=col>&lt;dbl&gt;</th></tr>\n",
              "</thead>\n",
              "<tbody>\n",
              "\t<tr><th scope=row>1</th><td>1</td><td>1935</td><td>317.6</td><td>3078.5</td><td>  2.8</td></tr>\n",
              "\t<tr><th scope=row>2</th><td>1</td><td>1936</td><td>391.8</td><td>4661.7</td><td> 52.6</td></tr>\n",
              "\t<tr><th scope=row>3</th><td>1</td><td>1937</td><td>410.6</td><td>5387.1</td><td>156.9</td></tr>\n",
              "\t<tr><th scope=row>4</th><td>1</td><td>1938</td><td>257.7</td><td>2792.2</td><td>209.2</td></tr>\n",
              "\t<tr><th scope=row>5</th><td>1</td><td>1939</td><td>330.8</td><td>4313.2</td><td>203.4</td></tr>\n",
              "\t<tr><th scope=row>6</th><td>1</td><td>1940</td><td>461.2</td><td>4643.9</td><td>207.2</td></tr>\n",
              "</tbody>\n",
              "</table>\n"
            ]
          },
          "metadata": {
            "tags": []
          }
        },
        {
          "output_type": "display_data",
          "data": {
            "text/plain": [
              "  exp wks bluecol ind south smsa married sex  union ed black lwage  \n",
              "1 3   32  no      0   yes   no   yes     male no    9  no    5.56068\n",
              "2 4   43  no      0   yes   no   yes     male no    9  no    5.72031\n",
              "3 5   40  no      0   yes   no   yes     male no    9  no    5.99645\n",
              "4 6   39  no      0   yes   no   yes     male no    9  no    5.99645\n",
              "5 7   42  no      1   yes   no   yes     male no    9  no    6.06146\n",
              "6 8   35  no      1   yes   no   yes     male no    9  no    6.17379"
            ],
            "text/latex": "A data.frame: 6 × 12\n\\begin{tabular}{r|llllllllllll}\n  & exp & wks & bluecol & ind & south & smsa & married & sex & union & ed & black & lwage\\\\\n  & <int> & <int> & <fct> & <int> & <fct> & <fct> & <fct> & <fct> & <fct> & <int> & <fct> & <dbl>\\\\\n\\hline\n\t1 & 3 & 32 & no & 0 & yes & no & yes & male & no & 9 & no & 5.56068\\\\\n\t2 & 4 & 43 & no & 0 & yes & no & yes & male & no & 9 & no & 5.72031\\\\\n\t3 & 5 & 40 & no & 0 & yes & no & yes & male & no & 9 & no & 5.99645\\\\\n\t4 & 6 & 39 & no & 0 & yes & no & yes & male & no & 9 & no & 5.99645\\\\\n\t5 & 7 & 42 & no & 1 & yes & no & yes & male & no & 9 & no & 6.06146\\\\\n\t6 & 8 & 35 & no & 1 & yes & no & yes & male & no & 9 & no & 6.17379\\\\\n\\end{tabular}\n",
            "text/markdown": "\nA data.frame: 6 × 12\n\n| <!--/--> | exp &lt;int&gt; | wks &lt;int&gt; | bluecol &lt;fct&gt; | ind &lt;int&gt; | south &lt;fct&gt; | smsa &lt;fct&gt; | married &lt;fct&gt; | sex &lt;fct&gt; | union &lt;fct&gt; | ed &lt;int&gt; | black &lt;fct&gt; | lwage &lt;dbl&gt; |\n|---|---|---|---|---|---|---|---|---|---|---|---|---|\n| 1 | 3 | 32 | no | 0 | yes | no | yes | male | no | 9 | no | 5.56068 |\n| 2 | 4 | 43 | no | 0 | yes | no | yes | male | no | 9 | no | 5.72031 |\n| 3 | 5 | 40 | no | 0 | yes | no | yes | male | no | 9 | no | 5.99645 |\n| 4 | 6 | 39 | no | 0 | yes | no | yes | male | no | 9 | no | 5.99645 |\n| 5 | 7 | 42 | no | 1 | yes | no | yes | male | no | 9 | no | 6.06146 |\n| 6 | 8 | 35 | no | 1 | yes | no | yes | male | no | 9 | no | 6.17379 |\n\n",
            "text/html": [
              "<table>\n",
              "<caption>A data.frame: 6 × 12</caption>\n",
              "<thead>\n",
              "\t<tr><th></th><th scope=col>exp</th><th scope=col>wks</th><th scope=col>bluecol</th><th scope=col>ind</th><th scope=col>south</th><th scope=col>smsa</th><th scope=col>married</th><th scope=col>sex</th><th scope=col>union</th><th scope=col>ed</th><th scope=col>black</th><th scope=col>lwage</th></tr>\n",
              "\t<tr><th></th><th scope=col>&lt;int&gt;</th><th scope=col>&lt;int&gt;</th><th scope=col>&lt;fct&gt;</th><th scope=col>&lt;int&gt;</th><th scope=col>&lt;fct&gt;</th><th scope=col>&lt;fct&gt;</th><th scope=col>&lt;fct&gt;</th><th scope=col>&lt;fct&gt;</th><th scope=col>&lt;fct&gt;</th><th scope=col>&lt;int&gt;</th><th scope=col>&lt;fct&gt;</th><th scope=col>&lt;dbl&gt;</th></tr>\n",
              "</thead>\n",
              "<tbody>\n",
              "\t<tr><th scope=row>1</th><td>3</td><td>32</td><td>no</td><td>0</td><td>yes</td><td>no</td><td>yes</td><td>male</td><td>no</td><td>9</td><td>no</td><td>5.56068</td></tr>\n",
              "\t<tr><th scope=row>2</th><td>4</td><td>43</td><td>no</td><td>0</td><td>yes</td><td>no</td><td>yes</td><td>male</td><td>no</td><td>9</td><td>no</td><td>5.72031</td></tr>\n",
              "\t<tr><th scope=row>3</th><td>5</td><td>40</td><td>no</td><td>0</td><td>yes</td><td>no</td><td>yes</td><td>male</td><td>no</td><td>9</td><td>no</td><td>5.99645</td></tr>\n",
              "\t<tr><th scope=row>4</th><td>6</td><td>39</td><td>no</td><td>0</td><td>yes</td><td>no</td><td>yes</td><td>male</td><td>no</td><td>9</td><td>no</td><td>5.99645</td></tr>\n",
              "\t<tr><th scope=row>5</th><td>7</td><td>42</td><td>no</td><td>1</td><td>yes</td><td>no</td><td>yes</td><td>male</td><td>no</td><td>9</td><td>no</td><td>6.06146</td></tr>\n",
              "\t<tr><th scope=row>6</th><td>8</td><td>35</td><td>no</td><td>1</td><td>yes</td><td>no</td><td>yes</td><td>male</td><td>no</td><td>9</td><td>no</td><td>6.17379</td></tr>\n",
              "</tbody>\n",
              "</table>\n"
            ]
          },
          "metadata": {
            "tags": []
          }
        }
      ]
    },
    {
      "cell_type": "markdown",
      "metadata": {
        "id": "pYLz8-epYIA8",
        "colab_type": "text"
      },
      "source": [
        "Com a função `data` acima, apenas chamamos os dados do pacote `plm`. Agora, farei uso da função `pdata.frame` para atribuir as informações de dataframe ao painel de dados. Observar que aqui neste rnotebook.io não faz acesso a internet a não ser pelos pacotes já instalados internamente."
      ]
    },
    {
      "cell_type": "code",
      "metadata": {
        "trusted": true,
        "id": "lbqh9skEYIA8",
        "colab_type": "code",
        "colab": {
          "base_uri": "https://localhost:8080/",
          "height": 34
        },
        "outputId": "dc4de138-d4fe-4aaf-86b8-b7ff7d97dae4"
      },
      "source": [
        "class(Grunfeld)"
      ],
      "execution_count": 9,
      "outputs": [
        {
          "output_type": "display_data",
          "data": {
            "text/plain": [
              "[1] \"data.frame\""
            ],
            "text/latex": "'data.frame'",
            "text/markdown": "'data.frame'",
            "text/html": [
              "'data.frame'"
            ]
          },
          "metadata": {
            "tags": []
          }
        }
      ]
    },
    {
      "cell_type": "markdown",
      "metadata": {
        "id": "TIxz4GqiYIA-",
        "colab_type": "text"
      },
      "source": [
        "Agora vou especificar `EmplUK` como um dataset em painel, ou pdata.frame"
      ]
    },
    {
      "cell_type": "code",
      "metadata": {
        "trusted": true,
        "id": "GGlQjQvFYIA-",
        "colab_type": "code",
        "colab": {
          "base_uri": "https://localhost:8080/",
          "height": 374
        },
        "outputId": "8feddae8-2253-4c3e-9312-1924b07916f9"
      },
      "source": [
        "E <- pdata.frame(EmplUK, index=c(\"firm\",\"year\"), drop.index=TRUE, row.names=TRUE)\n",
        "head(E)\n",
        "tail(E)"
      ],
      "execution_count": 10,
      "outputs": [
        {
          "output_type": "display_data",
          "data": {
            "text/plain": [
              "       sector emp   wage    capital output  \n",
              "1-1977 7      5.041 13.1516 0.5894   95.7072\n",
              "1-1978 7      5.600 12.3018 0.6318   97.3569\n",
              "1-1979 7      5.015 12.8395 0.6771   99.6083\n",
              "1-1980 7      4.715 13.8039 0.6171  100.5501\n",
              "1-1981 7      4.093 14.2897 0.5076   99.5581\n",
              "1-1982 7      3.166 14.8681 0.4229   98.6151"
            ],
            "text/latex": "A pdata.frame: 6 × 5\n\\begin{tabular}{r|lllll}\n  & sector & emp & wage & capital & output\\\\\n  & <dbl> & <dbl> & <dbl> & <dbl> & <dbl>\\\\\n\\hline\n\t1-1977 & 7 & 5.041 & 13.1516 & 0.5894 &  95.7072\\\\\n\t1-1978 & 7 & 5.600 & 12.3018 & 0.6318 &  97.3569\\\\\n\t1-1979 & 7 & 5.015 & 12.8395 & 0.6771 &  99.6083\\\\\n\t1-1980 & 7 & 4.715 & 13.8039 & 0.6171 & 100.5501\\\\\n\t1-1981 & 7 & 4.093 & 14.2897 & 0.5076 &  99.5581\\\\\n\t1-1982 & 7 & 3.166 & 14.8681 & 0.4229 &  98.6151\\\\\n\\end{tabular}\n",
            "text/markdown": "\nA pdata.frame: 6 × 5\n\n| <!--/--> | sector &lt;dbl&gt; | emp &lt;dbl&gt; | wage &lt;dbl&gt; | capital &lt;dbl&gt; | output &lt;dbl&gt; |\n|---|---|---|---|---|---|\n| 1-1977 | 7 | 5.041 | 13.1516 | 0.5894 |  95.7072 |\n| 1-1978 | 7 | 5.600 | 12.3018 | 0.6318 |  97.3569 |\n| 1-1979 | 7 | 5.015 | 12.8395 | 0.6771 |  99.6083 |\n| 1-1980 | 7 | 4.715 | 13.8039 | 0.6171 | 100.5501 |\n| 1-1981 | 7 | 4.093 | 14.2897 | 0.5076 |  99.5581 |\n| 1-1982 | 7 | 3.166 | 14.8681 | 0.4229 |  98.6151 |\n\n",
            "text/html": [
              "<table>\n",
              "<caption>A pdata.frame: 6 × 5</caption>\n",
              "<thead>\n",
              "\t<tr><th></th><th scope=col>sector</th><th scope=col>emp</th><th scope=col>wage</th><th scope=col>capital</th><th scope=col>output</th></tr>\n",
              "\t<tr><th></th><th scope=col>&lt;dbl&gt;</th><th scope=col>&lt;dbl&gt;</th><th scope=col>&lt;dbl&gt;</th><th scope=col>&lt;dbl&gt;</th><th scope=col>&lt;dbl&gt;</th></tr>\n",
              "</thead>\n",
              "<tbody>\n",
              "\t<tr><th scope=row>1-1977</th><td>7</td><td>5.041</td><td>13.1516</td><td>0.5894</td><td> 95.7072</td></tr>\n",
              "\t<tr><th scope=row>1-1978</th><td>7</td><td>5.600</td><td>12.3018</td><td>0.6318</td><td> 97.3569</td></tr>\n",
              "\t<tr><th scope=row>1-1979</th><td>7</td><td>5.015</td><td>12.8395</td><td>0.6771</td><td> 99.6083</td></tr>\n",
              "\t<tr><th scope=row>1-1980</th><td>7</td><td>4.715</td><td>13.8039</td><td>0.6171</td><td>100.5501</td></tr>\n",
              "\t<tr><th scope=row>1-1981</th><td>7</td><td>4.093</td><td>14.2897</td><td>0.5076</td><td> 99.5581</td></tr>\n",
              "\t<tr><th scope=row>1-1982</th><td>7</td><td>3.166</td><td>14.8681</td><td>0.4229</td><td> 98.6151</td></tr>\n",
              "</tbody>\n",
              "</table>\n"
            ]
          },
          "metadata": {
            "tags": []
          }
        },
        {
          "output_type": "display_data",
          "data": {
            "text/plain": [
              "         sector emp   wage    capital output  \n",
              "140-1979 3      1.438 29.0149 0.6650  111.5591\n",
              "140-1980 3      1.401 28.2772 0.5936  100.0000\n",
              "140-1981 3      1.330 30.4274 0.4754   99.3965\n",
              "140-1982 3      1.192 30.5565 0.4203   99.2931\n",
              "140-1983 3      1.136 30.8661 0.3697  107.0929\n",
              "140-1984 3      1.093 30.6442 0.3625  113.4571"
            ],
            "text/latex": "A pdata.frame: 6 × 5\n\\begin{tabular}{r|lllll}\n  & sector & emp & wage & capital & output\\\\\n  & <dbl> & <dbl> & <dbl> & <dbl> & <dbl>\\\\\n\\hline\n\t140-1979 & 3 & 1.438 & 29.0149 & 0.6650 & 111.5591\\\\\n\t140-1980 & 3 & 1.401 & 28.2772 & 0.5936 & 100.0000\\\\\n\t140-1981 & 3 & 1.330 & 30.4274 & 0.4754 &  99.3965\\\\\n\t140-1982 & 3 & 1.192 & 30.5565 & 0.4203 &  99.2931\\\\\n\t140-1983 & 3 & 1.136 & 30.8661 & 0.3697 & 107.0929\\\\\n\t140-1984 & 3 & 1.093 & 30.6442 & 0.3625 & 113.4571\\\\\n\\end{tabular}\n",
            "text/markdown": "\nA pdata.frame: 6 × 5\n\n| <!--/--> | sector &lt;dbl&gt; | emp &lt;dbl&gt; | wage &lt;dbl&gt; | capital &lt;dbl&gt; | output &lt;dbl&gt; |\n|---|---|---|---|---|---|\n| 140-1979 | 3 | 1.438 | 29.0149 | 0.6650 | 111.5591 |\n| 140-1980 | 3 | 1.401 | 28.2772 | 0.5936 | 100.0000 |\n| 140-1981 | 3 | 1.330 | 30.4274 | 0.4754 |  99.3965 |\n| 140-1982 | 3 | 1.192 | 30.5565 | 0.4203 |  99.2931 |\n| 140-1983 | 3 | 1.136 | 30.8661 | 0.3697 | 107.0929 |\n| 140-1984 | 3 | 1.093 | 30.6442 | 0.3625 | 113.4571 |\n\n",
            "text/html": [
              "<table>\n",
              "<caption>A pdata.frame: 6 × 5</caption>\n",
              "<thead>\n",
              "\t<tr><th></th><th scope=col>sector</th><th scope=col>emp</th><th scope=col>wage</th><th scope=col>capital</th><th scope=col>output</th></tr>\n",
              "\t<tr><th></th><th scope=col>&lt;dbl&gt;</th><th scope=col>&lt;dbl&gt;</th><th scope=col>&lt;dbl&gt;</th><th scope=col>&lt;dbl&gt;</th><th scope=col>&lt;dbl&gt;</th></tr>\n",
              "</thead>\n",
              "<tbody>\n",
              "\t<tr><th scope=row>140-1979</th><td>3</td><td>1.438</td><td>29.0149</td><td>0.6650</td><td>111.5591</td></tr>\n",
              "\t<tr><th scope=row>140-1980</th><td>3</td><td>1.401</td><td>28.2772</td><td>0.5936</td><td>100.0000</td></tr>\n",
              "\t<tr><th scope=row>140-1981</th><td>3</td><td>1.330</td><td>30.4274</td><td>0.4754</td><td> 99.3965</td></tr>\n",
              "\t<tr><th scope=row>140-1982</th><td>3</td><td>1.192</td><td>30.5565</td><td>0.4203</td><td> 99.2931</td></tr>\n",
              "\t<tr><th scope=row>140-1983</th><td>3</td><td>1.136</td><td>30.8661</td><td>0.3697</td><td>107.0929</td></tr>\n",
              "\t<tr><th scope=row>140-1984</th><td>3</td><td>1.093</td><td>30.6442</td><td>0.3625</td><td>113.4571</td></tr>\n",
              "</tbody>\n",
              "</table>\n"
            ]
          },
          "metadata": {
            "tags": []
          }
        }
      ]
    },
    {
      "cell_type": "code",
      "metadata": {
        "trusted": true,
        "id": "IqIvuPDPYIBA",
        "colab_type": "code",
        "colab": {
          "base_uri": "https://localhost:8080/",
          "height": 34
        },
        "outputId": "1a12530c-4d56-4719-facf-472ab0191b3e"
      },
      "source": [
        "class(E)"
      ],
      "execution_count": 11,
      "outputs": [
        {
          "output_type": "display_data",
          "data": {
            "text/plain": [
              "[1] \"pdata.frame\" \"data.frame\" "
            ],
            "text/latex": "\\begin{enumerate*}\n\\item 'pdata.frame'\n\\item 'data.frame'\n\\end{enumerate*}\n",
            "text/markdown": "1. 'pdata.frame'\n2. 'data.frame'\n\n\n",
            "text/html": [
              "<style>\n",
              ".list-inline {list-style: none; margin:0; padding: 0}\n",
              ".list-inline>li {display: inline-block}\n",
              ".list-inline>li:not(:last-child)::after {content: \"\\00b7\"; padding: 0 .5ex}\n",
              "</style>\n",
              "<ol class=list-inline><li>'pdata.frame'</li><li>'data.frame'</li></ol>\n"
            ]
          },
          "metadata": {
            "tags": []
          }
        }
      ]
    },
    {
      "cell_type": "markdown",
      "metadata": {
        "id": "PlZx9JL0YIBD",
        "colab_type": "text"
      },
      "source": [
        "Neste caso, foi especificado o identificador firm para a cross-section e o year para a time series do painel. O usuário deve estar atento que precisa haver um rótulo identificador para cross-section e para time series de modo que o pacote entenda e atribua corretamente as informações."
      ]
    },
    {
      "cell_type": "markdown",
      "metadata": {
        "id": "OKMG8F8SYIBE",
        "colab_type": "text"
      },
      "source": [
        "# Modelo de Efeito Fixos\n",
        "Farei agora um modelo de efeitos fixos para o dataset `Grunfeld`. Primeiro definirei como `pdata.frame` e depois estimarei o modelo."
      ]
    },
    {
      "cell_type": "code",
      "metadata": {
        "trusted": true,
        "id": "xMJQ8rUJYIBE",
        "colab_type": "code",
        "colab": {
          "base_uri": "https://localhost:8080/",
          "height": 195
        },
        "outputId": "95c40ca3-361a-41c7-c017-9d52fee84dab"
      },
      "source": [
        "Grunfeld <- pdata.frame(Grunfeld, index=c(\"firm\",\"year\"), drop.index=TRUE, row.names=TRUE)\n",
        "head(Grunfeld)"
      ],
      "execution_count": 12,
      "outputs": [
        {
          "output_type": "display_data",
          "data": {
            "text/plain": [
              "       inv   value  capital\n",
              "1-1935 317.6 3078.5   2.8  \n",
              "1-1936 391.8 4661.7  52.6  \n",
              "1-1937 410.6 5387.1 156.9  \n",
              "1-1938 257.7 2792.2 209.2  \n",
              "1-1939 330.8 4313.2 203.4  \n",
              "1-1940 461.2 4643.9 207.2  "
            ],
            "text/latex": "A pdata.frame: 6 × 3\n\\begin{tabular}{r|lll}\n  & inv & value & capital\\\\\n  & <dbl> & <dbl> & <dbl>\\\\\n\\hline\n\t1-1935 & 317.6 & 3078.5 &   2.8\\\\\n\t1-1936 & 391.8 & 4661.7 &  52.6\\\\\n\t1-1937 & 410.6 & 5387.1 & 156.9\\\\\n\t1-1938 & 257.7 & 2792.2 & 209.2\\\\\n\t1-1939 & 330.8 & 4313.2 & 203.4\\\\\n\t1-1940 & 461.2 & 4643.9 & 207.2\\\\\n\\end{tabular}\n",
            "text/markdown": "\nA pdata.frame: 6 × 3\n\n| <!--/--> | inv &lt;dbl&gt; | value &lt;dbl&gt; | capital &lt;dbl&gt; |\n|---|---|---|---|\n| 1-1935 | 317.6 | 3078.5 |   2.8 |\n| 1-1936 | 391.8 | 4661.7 |  52.6 |\n| 1-1937 | 410.6 | 5387.1 | 156.9 |\n| 1-1938 | 257.7 | 2792.2 | 209.2 |\n| 1-1939 | 330.8 | 4313.2 | 203.4 |\n| 1-1940 | 461.2 | 4643.9 | 207.2 |\n\n",
            "text/html": [
              "<table>\n",
              "<caption>A pdata.frame: 6 × 3</caption>\n",
              "<thead>\n",
              "\t<tr><th></th><th scope=col>inv</th><th scope=col>value</th><th scope=col>capital</th></tr>\n",
              "\t<tr><th></th><th scope=col>&lt;dbl&gt;</th><th scope=col>&lt;dbl&gt;</th><th scope=col>&lt;dbl&gt;</th></tr>\n",
              "</thead>\n",
              "<tbody>\n",
              "\t<tr><th scope=row>1-1935</th><td>317.6</td><td>3078.5</td><td>  2.8</td></tr>\n",
              "\t<tr><th scope=row>1-1936</th><td>391.8</td><td>4661.7</td><td> 52.6</td></tr>\n",
              "\t<tr><th scope=row>1-1937</th><td>410.6</td><td>5387.1</td><td>156.9</td></tr>\n",
              "\t<tr><th scope=row>1-1938</th><td>257.7</td><td>2792.2</td><td>209.2</td></tr>\n",
              "\t<tr><th scope=row>1-1939</th><td>330.8</td><td>4313.2</td><td>203.4</td></tr>\n",
              "\t<tr><th scope=row>1-1940</th><td>461.2</td><td>4643.9</td><td>207.2</td></tr>\n",
              "</tbody>\n",
              "</table>\n"
            ]
          },
          "metadata": {
            "tags": []
          }
        }
      ]
    },
    {
      "cell_type": "code",
      "metadata": {
        "trusted": true,
        "id": "nj7qfiGCYIBH",
        "colab_type": "code",
        "colab": {
          "base_uri": "https://localhost:8080/",
          "height": 34
        },
        "outputId": "ab0da69b-fe7e-40dd-a77c-09d7045e8fe6"
      },
      "source": [
        "dim(Grunfeld)"
      ],
      "execution_count": 13,
      "outputs": [
        {
          "output_type": "display_data",
          "data": {
            "text/plain": [
              "[1] 200   3"
            ],
            "text/latex": "\\begin{enumerate*}\n\\item 200\n\\item 3\n\\end{enumerate*}\n",
            "text/markdown": "1. 200\n2. 3\n\n\n",
            "text/html": [
              "<style>\n",
              ".list-inline {list-style: none; margin:0; padding: 0}\n",
              ".list-inline>li {display: inline-block}\n",
              ".list-inline>li:not(:last-child)::after {content: \"\\00b7\"; padding: 0 .5ex}\n",
              "</style>\n",
              "<ol class=list-inline><li>200</li><li>3</li></ol>\n"
            ]
          },
          "metadata": {
            "tags": []
          }
        }
      ]
    },
    {
      "cell_type": "markdown",
      "metadata": {
        "id": "XqGP2WxEYIBJ",
        "colab_type": "text"
      },
      "source": [
        "Agora estimarei o modelo em painel."
      ]
    },
    {
      "cell_type": "code",
      "metadata": {
        "trusted": true,
        "id": "3YmvcZwwYIBK",
        "colab_type": "code",
        "colab": {}
      },
      "source": [
        "grun.fe <- plm(inv~value+capital, data = Grunfeld, model = \"within\")"
      ],
      "execution_count": 14,
      "outputs": []
    },
    {
      "cell_type": "markdown",
      "metadata": {
        "id": "SXbLCHErYIBN",
        "colab_type": "text"
      },
      "source": [
        "Gerarei o sumário."
      ]
    },
    {
      "cell_type": "code",
      "metadata": {
        "trusted": true,
        "id": "3aJKQlnzYIBN",
        "colab_type": "code",
        "colab": {
          "base_uri": "https://localhost:8080/",
          "height": 403
        },
        "outputId": "c78ed14e-52f1-433e-bd14-bcdfd6b5e60f"
      },
      "source": [
        "#Vou pedir o sumário da estimação.\n",
        "\n",
        "summary(grun.fe)"
      ],
      "execution_count": 15,
      "outputs": [
        {
          "output_type": "display_data",
          "data": {
            "text/plain": [
              "Oneway (individual) effect Within Model\n",
              "\n",
              "Call:\n",
              "plm(formula = inv ~ value + capital, data = Grunfeld, model = \"within\")\n",
              "\n",
              "Balanced Panel: n = 10, T = 20, N = 200\n",
              "\n",
              "Residuals:\n",
              "      Min.    1st Qu.     Median    3rd Qu.       Max. \n",
              "-184.00857  -17.64316    0.56337   19.19222  250.70974 \n",
              "\n",
              "Coefficients:\n",
              "        Estimate Std. Error t-value  Pr(>|t|)    \n",
              "value   0.110124   0.011857  9.2879 < 2.2e-16 ***\n",
              "capital 0.310065   0.017355 17.8666 < 2.2e-16 ***\n",
              "---\n",
              "Signif. codes:  0 ‘***’ 0.001 ‘**’ 0.01 ‘*’ 0.05 ‘.’ 0.1 ‘ ’ 1\n",
              "\n",
              "Total Sum of Squares:    2244400\n",
              "Residual Sum of Squares: 523480\n",
              "R-Squared:      0.76676\n",
              "Adj. R-Squared: 0.75311\n",
              "F-statistic: 309.014 on 2 and 188 DF, p-value: < 2.22e-16"
            ]
          },
          "metadata": {
            "tags": []
          }
        }
      ]
    },
    {
      "cell_type": "markdown",
      "metadata": {
        "id": "xukGiylTYIBP",
        "colab_type": "text"
      },
      "source": [
        "* Contato: E-mail: <amrofi@gmail.com>\n",
        "\n",
        "# **Siga nas redes sociais:**\n",
        "* Facebook: <https://www.facebook.com/profadrianomrfigueiredo/>\n",
        "\n",
        "* Youtube: <http://youtube.com/amrofi>\n",
        "* Minha Página Web: <https://adrianofigueiredo.netlify.app/>\n",
        "\n",
        "* RPubs: <https://rpubs.com/amrofi/>"
      ]
    }
  ]
}