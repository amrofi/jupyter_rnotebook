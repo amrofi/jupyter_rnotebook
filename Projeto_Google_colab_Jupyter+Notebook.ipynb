{
  "nbformat": 4,
  "nbformat_minor": 0,
  "metadata": {
    "kernelspec": {
      "display_name": "R",
      "language": "R",
      "name": "ir"
    },
    "language_info": {
      "codemirror_mode": "r",
      "file_extension": ".r",
      "mimetype": "text/x-r-source",
      "name": "R",
      "pygments_lexer": "r",
      "version": "3.3.3"
    },
    "colab": {
      "name": "Projeto Google colab Jupyter+Notebook.ipynb",
      "provenance": [],
      "collapsed_sections": [],
      "include_colab_link": true
    }
  },
  "cells": [
    {
      "cell_type": "markdown",
      "metadata": {
        "id": "view-in-github",
        "colab_type": "text"
      },
      "source": [
        "<a href=\"https://colab.research.google.com/github/amrofi/jupyter_rnotebook/blob/master/Projeto_Google_colab_Jupyter%2BNotebook.ipynb\" target=\"_parent\"><img src=\"https://colab.research.google.com/assets/colab-badge.svg\" alt=\"Open In Colab\"/></a>"
      ]
    },
    {
      "cell_type": "markdown",
      "metadata": {
        "collapsed": true,
        "deletable": true,
        "editable": true,
        "id": "0P31wm6r8s2U",
        "colab_type": "text"
      },
      "source": [
        "# Introdução\n",
        "\n",
        "Quero estabelecer uma nova conexao R no Google Colab"
      ]
    },
    {
      "cell_type": "code",
      "metadata": {
        "id": "5g5ehkLB9UQY",
        "colab_type": "code",
        "colab": {
          "base_uri": "https://localhost:8080/",
          "height": 67
        },
        "outputId": "8b72e8af-08b1-4dd7-9dd8-fe89473ac457"
      },
      "source": [
        "install.packages('zoo', repos='http://cran.rstudio.com/')"
      ],
      "execution_count": 1,
      "outputs": [
        {
          "output_type": "stream",
          "text": [
            "Installing package into ‘/usr/local/lib/R/site-library’\n",
            "(as ‘lib’ is unspecified)\n",
            "\n"
          ],
          "name": "stderr"
        }
      ]
    },
    {
      "cell_type": "code",
      "metadata": {
        "deletable": true,
        "editable": true,
        "id": "lU_faBh88s2X",
        "colab_type": "code",
        "colab": {
          "base_uri": "https://localhost:8080/",
          "height": 168
        },
        "outputId": "d384dbe2-1831-4173-d7ef-8045c092ba73"
      },
      "source": [
        "library(\"zoo\")"
      ],
      "execution_count": 2,
      "outputs": [
        {
          "output_type": "stream",
          "text": [
            "\n",
            "Attaching package: ‘zoo’\n",
            "\n",
            "\n",
            "The following objects are masked from ‘package:base’:\n",
            "\n",
            "    as.Date, as.Date.numeric\n",
            "\n",
            "\n"
          ],
          "name": "stderr"
        }
      ]
    },
    {
      "cell_type": "code",
      "metadata": {
        "id": "z0Z-AzWEHmzX",
        "colab_type": "code",
        "colab": {
          "base_uri": "https://localhost:8080/",
          "height": 437
        },
        "outputId": "73894f1d-05ef-48de-aa00-5bb3ef4b3846"
      },
      "source": [
        "set.seed(1)\n",
        "## example data\n",
        "x.Date <- as.Date(paste(2003, 02, c(1, 3, 7, 9, 14), sep = \"-\"))\n",
        "x <- zoo(rnorm(5), x.Date)\n",
        "xlow <- x - runif(5)\n",
        "xhigh <- x + runif(5)\n",
        "z <- cbind(x, xlow, xhigh)\n",
        "## univariate plotting\n",
        "plot(x)\n"
      ],
      "execution_count": 5,
      "outputs": [
        {
          "output_type": "display_data",
          "data": {
            "image/png": "[encoded data removed]",
            "text/plain": [
              "Plot with title “”"
            ]
          },
          "metadata": {
            "tags": [],
            "image/png": {
              "width": 420,
              "height": 420
            }
          }
        }
      ]
    }
  ]
}