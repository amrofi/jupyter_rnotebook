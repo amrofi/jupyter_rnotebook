{
 "cells": [
  {
   "cell_type": "markdown",
   "id": "searching-venezuela",
   "metadata": {},
   "source": [
    "# Introdução"
   ]
  },
  {
   "cell_type": "markdown",
   "id": "expired-brass",
   "metadata": {},
   "source": [
    "Farei exemplo com http://web.vu.lt/mif/a.buteikis/wp-content/uploads/PE_Book/4-1-Multiple-Reg-Spec.html"
   ]
  },
  {
   "cell_type": "markdown",
   "id": "comparable-bacon",
   "metadata": {},
   "source": [
    "# Exemplo com R"
   ]
  },
  {
   "cell_type": "code",
   "execution_count": 2,
   "id": "genuine-radiation",
   "metadata": {},
   "outputs": [
    {
     "name": "stdout",
     "output_type": "stream",
     "text": [
      "  day_of_the_week\n",
      "1          Sunday\n",
      "2          Sunday\n",
      "3       Wednesday\n",
      "4        Saturday\n",
      "5       Wednesday\n"
     ]
    }
   ],
   "source": [
    "#\n",
    "#\n",
    "#\n",
    "set.seed(123)\n",
    "N <- 100\n",
    "day_vec_ordered <- c(\"Monday\", \"Tuesday\", \"Wednesday\", \"Thursday\", \n",
    "                     \"Friday\", \"Saturday\", \"Sunday\")\n",
    "data <- data.frame(day_of_the_week = sample(day_vec_ordered, size = N, \n",
    "                                            replace = TRUE))\n",
    "print(head(data, 5))"
   ]
  },
  {
   "cell_type": "markdown",
   "id": "touched-wheel",
   "metadata": {},
   "source": [
    "# Exemplo com Python"
   ]
  },
  {
   "cell_type": "markdown",
   "id": "three-abortion",
   "metadata": {},
   "source": [
    "Preciso inverter o kernel em <Kernel/Change kernel> para Python antes de executar a linha a seguir."
   ]
  },
  {
   "cell_type": "code",
   "execution_count": 1,
   "id": "bright-australian",
   "metadata": {},
   "outputs": [
    {
     "name": "stdout",
     "output_type": "stream",
     "text": [
      "  day_of_the_week\n",
      "0          Sunday\n",
      "1        Saturday\n",
      "2          Sunday\n",
      "3       Wednesday\n",
      "4          Friday\n"
     ]
    }
   ],
   "source": [
    "import numpy as np\n",
    "import pandas as pd\n",
    "#\n",
    "np.random.seed(123)\n",
    "N = 100\n",
    "day_vec_ordered = [\"Monday\", \"Tuesday\", \"Wednesday\", \"Thursday\", \n",
    "                   \"Friday\", \"Saturday\", \"Sunday\"]\n",
    "data = pd.DataFrame(np.random.choice(day_vec_ordered, size = N, replace = True), \n",
    "                    columns=[\"day_of_the_week\"], dtype =\"category\")\n",
    "print(data.head(5))"
   ]
  },
  {
   "cell_type": "markdown",
   "id": "tested-finding",
   "metadata": {},
   "source": [
    "# Continuando em R"
   ]
  },
  {
   "cell_type": "code",
   "execution_count": 3,
   "id": "given-cancellation",
   "metadata": {},
   "outputs": [
    {
     "name": "stdout",
     "output_type": "stream",
     "text": [
      "[1] Sunday    Sunday    Wednesday Saturday  Wednesday\n",
      "Levels: Friday Monday Saturday Sunday Thursday Tuesday Wednesday\n"
     ]
    }
   ],
   "source": [
    "print(head(data$day_of_the_week, 5))"
   ]
  },
  {
   "cell_type": "markdown",
   "id": "planned-underground",
   "metadata": {},
   "source": [
    "# Continuando em Python"
   ]
  },
  {
   "cell_type": "code",
   "execution_count": 2,
   "id": "atmospheric-spectrum",
   "metadata": {},
   "outputs": [
    {
     "name": "stdout",
     "output_type": "stream",
     "text": [
      "0       Sunday\n",
      "1     Saturday\n",
      "2       Sunday\n",
      "3    Wednesday\n",
      "4       Friday\n",
      "Name: day_of_the_week, dtype: category\n",
      "Categories (7, object): ['Friday', 'Monday', 'Saturday', 'Sunday', 'Thursday', 'Tuesday', 'Wednesday']\n"
     ]
    }
   ],
   "source": [
    "print(data.day_of_the_week.head(5))"
   ]
  },
  {
   "cell_type": "code",
   "execution_count": null,
   "id": "prerequisite-thursday",
   "metadata": {},
   "outputs": [],
   "source": []
  }
 ],
 "metadata": {
  "kernelspec": {
   "display_name": "Python 3",
   "language": "python",
   "name": "python3"
  },
  "language_info": {
   "codemirror_mode": {
    "name": "ipython",
    "version": 3
   },
   "file_extension": ".py",
   "mimetype": "text/x-python",
   "name": "python",
   "nbconvert_exporter": "python",
   "pygments_lexer": "ipython3",
   "version": "3.8.5"
  }
 },
 "nbformat": 4,
 "nbformat_minor": 5
}
